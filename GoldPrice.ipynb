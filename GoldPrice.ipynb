{
 "cells": [
  {
   "cell_type": "code",
   "execution_count": 1,
   "id": "0a4f713e-c4c1-46f4-b788-2d0830474713",
   "metadata": {},
   "outputs": [],
   "source": [
    "import pandas as pd\n",
    "import numpy as np\n",
    "import matplotlib.pyplot as plt"
   ]
  },
  {
   "cell_type": "code",
   "execution_count": 2,
   "id": "ff964346-2958-4c4b-b649-08eb33d59140",
   "metadata": {},
   "outputs": [],
   "source": [
    "gold_dataset=pd.read_csv(\"monthly_csv.csv\")\n",
    "gold_dataset1=gold_dataset"
   ]
  },
  {
   "cell_type": "code",
   "execution_count": 3,
   "id": "1ef543fe-064b-49ea-96fb-2443d8fc7c5c",
   "metadata": {},
   "outputs": [
    {
     "name": "stdout",
     "output_type": "stream",
     "text": [
      "Empty DataFrame\n",
      "Columns: [Date, Price]\n",
      "Index: []\n"
     ]
    }
   ],
   "source": [
    "print(gold_dataset1[gold_dataset1[\"Price\"]<=0])"
   ]
  },
  {
   "cell_type": "code",
   "execution_count": 4,
   "id": "4c4d2ae0-2063-41dc-9331-86dec3a3ddd7",
   "metadata": {},
   "outputs": [
    {
     "name": "stdout",
     "output_type": "stream",
     "text": [
      "<class 'pandas.core.frame.DataFrame'>\n",
      "RangeIndex: 847 entries, 0 to 846\n",
      "Data columns (total 2 columns):\n",
      " #   Column  Non-Null Count  Dtype  \n",
      "---  ------  --------------  -----  \n",
      " 0   Date    847 non-null    object \n",
      " 1   Price   847 non-null    float64\n",
      "dtypes: float64(1), object(1)\n",
      "memory usage: 13.4+ KB\n"
     ]
    }
   ],
   "source": [
    "gold_dataset1.info()"
   ]
  },
  {
   "cell_type": "code",
   "execution_count": 5,
   "id": "d4e52e84-aef8-474f-ba67-3688f43136b7",
   "metadata": {},
   "outputs": [
    {
     "data": {
      "text/html": [
       "<div>\n",
       "<style scoped>\n",
       "    .dataframe tbody tr th:only-of-type {\n",
       "        vertical-align: middle;\n",
       "    }\n",
       "\n",
       "    .dataframe tbody tr th {\n",
       "        vertical-align: top;\n",
       "    }\n",
       "\n",
       "    .dataframe thead th {\n",
       "        text-align: right;\n",
       "    }\n",
       "</style>\n",
       "<table border=\"1\" class=\"dataframe\">\n",
       "  <thead>\n",
       "    <tr style=\"text-align: right;\">\n",
       "      <th></th>\n",
       "      <th>Price</th>\n",
       "    </tr>\n",
       "  </thead>\n",
       "  <tbody>\n",
       "    <tr>\n",
       "      <th>count</th>\n",
       "      <td>847.000000</td>\n",
       "    </tr>\n",
       "    <tr>\n",
       "      <th>mean</th>\n",
       "      <td>416.556906</td>\n",
       "    </tr>\n",
       "    <tr>\n",
       "      <th>std</th>\n",
       "      <td>453.665313</td>\n",
       "    </tr>\n",
       "    <tr>\n",
       "      <th>min</th>\n",
       "      <td>34.490000</td>\n",
       "    </tr>\n",
       "    <tr>\n",
       "      <th>25%</th>\n",
       "      <td>35.190000</td>\n",
       "    </tr>\n",
       "    <tr>\n",
       "      <th>50%</th>\n",
       "      <td>319.622000</td>\n",
       "    </tr>\n",
       "    <tr>\n",
       "      <th>75%</th>\n",
       "      <td>447.029000</td>\n",
       "    </tr>\n",
       "    <tr>\n",
       "      <th>max</th>\n",
       "      <td>1840.807000</td>\n",
       "    </tr>\n",
       "  </tbody>\n",
       "</table>\n",
       "</div>"
      ],
      "text/plain": [
       "             Price\n",
       "count   847.000000\n",
       "mean    416.556906\n",
       "std     453.665313\n",
       "min      34.490000\n",
       "25%      35.190000\n",
       "50%     319.622000\n",
       "75%     447.029000\n",
       "max    1840.807000"
      ]
     },
     "execution_count": 5,
     "metadata": {},
     "output_type": "execute_result"
    }
   ],
   "source": [
    "gold_dataset1.describe()"
   ]
  },
  {
   "cell_type": "code",
   "execution_count": 6,
   "id": "0c26e943-a718-4149-b6d3-079e6f4c3ff7",
   "metadata": {},
   "outputs": [],
   "source": [
    "import warnings\n",
    "warnings.filterwarnings(\"ignore\")"
   ]
  },
  {
   "cell_type": "code",
   "execution_count": 7,
   "id": "efc31d07-63cd-400f-8943-ed4bb73643a1",
   "metadata": {},
   "outputs": [],
   "source": [
    "from EDAcentral import EDA  #(userdefined class and functions for EDA)"
   ]
  },
  {
   "cell_type": "code",
   "execution_count": 8,
   "id": "a2f0f84d-79e7-4673-94fb-d7ec430f414b",
   "metadata": {},
   "outputs": [
    {
     "data": {
      "text/html": [
       "<div>\n",
       "<style scoped>\n",
       "    .dataframe tbody tr th:only-of-type {\n",
       "        vertical-align: middle;\n",
       "    }\n",
       "\n",
       "    .dataframe tbody tr th {\n",
       "        vertical-align: top;\n",
       "    }\n",
       "\n",
       "    .dataframe thead th {\n",
       "        text-align: right;\n",
       "    }\n",
       "</style>\n",
       "<table border=\"1\" class=\"dataframe\">\n",
       "  <thead>\n",
       "    <tr style=\"text-align: right;\">\n",
       "      <th></th>\n",
       "      <th>Price</th>\n",
       "    </tr>\n",
       "  </thead>\n",
       "  <tbody>\n",
       "    <tr>\n",
       "      <th>Mean</th>\n",
       "      <td>416.556906</td>\n",
       "    </tr>\n",
       "    <tr>\n",
       "      <th>Median</th>\n",
       "      <td>319.622</td>\n",
       "    </tr>\n",
       "    <tr>\n",
       "      <th>Mode</th>\n",
       "      <td>35.08</td>\n",
       "    </tr>\n",
       "    <tr>\n",
       "      <th>Q1:25</th>\n",
       "      <td>35.19</td>\n",
       "    </tr>\n",
       "    <tr>\n",
       "      <th>Q2:50</th>\n",
       "      <td>319.622</td>\n",
       "    </tr>\n",
       "    <tr>\n",
       "      <th>Q3:75</th>\n",
       "      <td>447.029</td>\n",
       "    </tr>\n",
       "    <tr>\n",
       "      <th>Q4:100</th>\n",
       "      <td>1840.807</td>\n",
       "    </tr>\n",
       "    <tr>\n",
       "      <th>IQR</th>\n",
       "      <td>411.839</td>\n",
       "    </tr>\n",
       "    <tr>\n",
       "      <th>1.5*IQR</th>\n",
       "      <td>617.7585</td>\n",
       "    </tr>\n",
       "    <tr>\n",
       "      <th>Lesser</th>\n",
       "      <td>-582.5685</td>\n",
       "    </tr>\n",
       "    <tr>\n",
       "      <th>Greater</th>\n",
       "      <td>1064.7875</td>\n",
       "    </tr>\n",
       "    <tr>\n",
       "      <th>Min</th>\n",
       "      <td>34.49</td>\n",
       "    </tr>\n",
       "    <tr>\n",
       "      <th>Max</th>\n",
       "      <td>1840.807</td>\n",
       "    </tr>\n",
       "  </tbody>\n",
       "</table>\n",
       "</div>"
      ],
      "text/plain": [
       "              Price\n",
       "Mean     416.556906\n",
       "Median      319.622\n",
       "Mode          35.08\n",
       "Q1:25         35.19\n",
       "Q2:50       319.622\n",
       "Q3:75       447.029\n",
       "Q4:100     1840.807\n",
       "IQR         411.839\n",
       "1.5*IQR    617.7585\n",
       "Lesser    -582.5685\n",
       "Greater   1064.7875\n",
       "Min           34.49\n",
       "Max        1840.807"
      ]
     },
     "execution_count": 8,
     "metadata": {},
     "output_type": "execute_result"
    }
   ],
   "source": [
    "eda=EDA(gold_dataset[[\"Price\"]])\n",
    "centraluni=eda.central()\n",
    "centraluni"
   ]
  },
  {
   "cell_type": "code",
   "execution_count": 9,
   "id": "21bd207f-de0d-4ba7-a5b4-752c3fbbb869",
   "metadata": {},
   "outputs": [],
   "source": [
    "Lesser=[]\n",
    "Greater=[]\n",
    "Lesser,Greater=eda.outlierscheck()"
   ]
  },
  {
   "cell_type": "code",
   "execution_count": 10,
   "id": "3b90f2c7-a202-42d0-bbdb-3c070af14ba2",
   "metadata": {},
   "outputs": [
    {
     "data": {
      "text/html": [
       "<div>\n",
       "<style scoped>\n",
       "    .dataframe tbody tr th:only-of-type {\n",
       "        vertical-align: middle;\n",
       "    }\n",
       "\n",
       "    .dataframe tbody tr th {\n",
       "        vertical-align: top;\n",
       "    }\n",
       "\n",
       "    .dataframe thead th {\n",
       "        text-align: right;\n",
       "    }\n",
       "</style>\n",
       "<table border=\"1\" class=\"dataframe\">\n",
       "  <thead>\n",
       "    <tr style=\"text-align: right;\">\n",
       "      <th></th>\n",
       "      <th>Price</th>\n",
       "    </tr>\n",
       "  </thead>\n",
       "  <tbody>\n",
       "    <tr>\n",
       "      <th>0</th>\n",
       "      <td>34.7300</td>\n",
       "    </tr>\n",
       "    <tr>\n",
       "      <th>1</th>\n",
       "      <td>34.7300</td>\n",
       "    </tr>\n",
       "    <tr>\n",
       "      <th>2</th>\n",
       "      <td>34.7300</td>\n",
       "    </tr>\n",
       "    <tr>\n",
       "      <th>3</th>\n",
       "      <td>34.7300</td>\n",
       "    </tr>\n",
       "    <tr>\n",
       "      <th>4</th>\n",
       "      <td>34.7300</td>\n",
       "    </tr>\n",
       "    <tr>\n",
       "      <th>...</th>\n",
       "      <td>...</td>\n",
       "    </tr>\n",
       "    <tr>\n",
       "      <th>842</th>\n",
       "      <td>1064.7875</td>\n",
       "    </tr>\n",
       "    <tr>\n",
       "      <th>843</th>\n",
       "      <td>1064.7875</td>\n",
       "    </tr>\n",
       "    <tr>\n",
       "      <th>844</th>\n",
       "      <td>1064.7875</td>\n",
       "    </tr>\n",
       "    <tr>\n",
       "      <th>845</th>\n",
       "      <td>1064.7875</td>\n",
       "    </tr>\n",
       "    <tr>\n",
       "      <th>846</th>\n",
       "      <td>1064.7875</td>\n",
       "    </tr>\n",
       "  </tbody>\n",
       "</table>\n",
       "<p>847 rows × 1 columns</p>\n",
       "</div>"
      ],
      "text/plain": [
       "         Price\n",
       "0      34.7300\n",
       "1      34.7300\n",
       "2      34.7300\n",
       "3      34.7300\n",
       "4      34.7300\n",
       "..         ...\n",
       "842  1064.7875\n",
       "843  1064.7875\n",
       "844  1064.7875\n",
       "845  1064.7875\n",
       "846  1064.7875\n",
       "\n",
       "[847 rows x 1 columns]"
      ]
     },
     "execution_count": 10,
     "metadata": {},
     "output_type": "execute_result"
    }
   ],
   "source": [
    "gold_dataseteda=eda.outliersreplace()\n",
    "gold_dataseteda\n"
   ]
  },
  {
   "cell_type": "code",
   "execution_count": 11,
   "id": "bc680597-9c9e-4698-86ca-16c8f713ec89",
   "metadata": {},
   "outputs": [],
   "source": [
    "eda1=EDA(gold_dataseteda)"
   ]
  },
  {
   "cell_type": "code",
   "execution_count": 12,
   "id": "5d960f63-84b0-48e2-851d-b93416060cdb",
   "metadata": {},
   "outputs": [
    {
     "data": {
      "text/html": [
       "<div>\n",
       "<style scoped>\n",
       "    .dataframe tbody tr th:only-of-type {\n",
       "        vertical-align: middle;\n",
       "    }\n",
       "\n",
       "    .dataframe tbody tr th {\n",
       "        vertical-align: top;\n",
       "    }\n",
       "\n",
       "    .dataframe thead th {\n",
       "        text-align: right;\n",
       "    }\n",
       "</style>\n",
       "<table border=\"1\" class=\"dataframe\">\n",
       "  <thead>\n",
       "    <tr style=\"text-align: right;\">\n",
       "      <th></th>\n",
       "      <th>Price</th>\n",
       "    </tr>\n",
       "  </thead>\n",
       "  <tbody>\n",
       "    <tr>\n",
       "      <th>Mean</th>\n",
       "      <td>371.381164</td>\n",
       "    </tr>\n",
       "    <tr>\n",
       "      <th>Median</th>\n",
       "      <td>319.622</td>\n",
       "    </tr>\n",
       "    <tr>\n",
       "      <th>Mode</th>\n",
       "      <td>1064.7875</td>\n",
       "    </tr>\n",
       "    <tr>\n",
       "      <th>Q1:25</th>\n",
       "      <td>35.19</td>\n",
       "    </tr>\n",
       "    <tr>\n",
       "      <th>Q2:50</th>\n",
       "      <td>319.622</td>\n",
       "    </tr>\n",
       "    <tr>\n",
       "      <th>Q3:75</th>\n",
       "      <td>447.029</td>\n",
       "    </tr>\n",
       "    <tr>\n",
       "      <th>Q4:100</th>\n",
       "      <td>1064.7875</td>\n",
       "    </tr>\n",
       "    <tr>\n",
       "      <th>IQR</th>\n",
       "      <td>411.839</td>\n",
       "    </tr>\n",
       "    <tr>\n",
       "      <th>1.5*IQR</th>\n",
       "      <td>617.7585</td>\n",
       "    </tr>\n",
       "    <tr>\n",
       "      <th>Lesser</th>\n",
       "      <td>-582.5685</td>\n",
       "    </tr>\n",
       "    <tr>\n",
       "      <th>Greater</th>\n",
       "      <td>1064.7875</td>\n",
       "    </tr>\n",
       "    <tr>\n",
       "      <th>Min</th>\n",
       "      <td>34.49</td>\n",
       "    </tr>\n",
       "    <tr>\n",
       "      <th>Max</th>\n",
       "      <td>1064.7875</td>\n",
       "    </tr>\n",
       "  </tbody>\n",
       "</table>\n",
       "</div>"
      ],
      "text/plain": [
       "              Price\n",
       "Mean     371.381164\n",
       "Median      319.622\n",
       "Mode      1064.7875\n",
       "Q1:25         35.19\n",
       "Q2:50       319.622\n",
       "Q3:75       447.029\n",
       "Q4:100    1064.7875\n",
       "IQR         411.839\n",
       "1.5*IQR    617.7585\n",
       "Lesser    -582.5685\n",
       "Greater   1064.7875\n",
       "Min           34.49\n",
       "Max       1064.7875"
      ]
     },
     "execution_count": 12,
     "metadata": {},
     "output_type": "execute_result"
    }
   ],
   "source": [
    "centraluni=eda1.central()\n",
    "centraluni"
   ]
  },
  {
   "cell_type": "code",
   "execution_count": 13,
   "id": "00f1f9a1-f62d-45e0-b3f0-8d8f0055a6ea",
   "metadata": {},
   "outputs": [
    {
     "data": {
      "text/plain": [
       "[]"
      ]
     },
     "execution_count": 13,
     "metadata": {},
     "output_type": "execute_result"
    }
   ],
   "source": [
    "Lesser,Greater=eda1.outlierscheck()\n",
    "Lesser\n",
    "Greater"
   ]
  },
  {
   "cell_type": "code",
   "execution_count": null,
   "id": "b9249094-fb7c-417a-8fa0-cfb9fae9878a",
   "metadata": {},
   "outputs": [],
   "source": []
  }
 ],
 "metadata": {
  "kernelspec": {
   "display_name": "Python 3 (ipykernel)",
   "language": "python",
   "name": "python3"
  },
  "language_info": {
   "codemirror_mode": {
    "name": "ipython",
    "version": 3
   },
   "file_extension": ".py",
   "mimetype": "text/x-python",
   "name": "python",
   "nbconvert_exporter": "python",
   "pygments_lexer": "ipython3",
   "version": "3.12.3"
  }
 },
 "nbformat": 4,
 "nbformat_minor": 5
}
