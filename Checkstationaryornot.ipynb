{
 "cells": [
  {
   "cell_type": "code",
   "execution_count": 1,
   "id": "8c8abce7-120f-4d89-9c22-bf88ea0d9aef",
   "metadata": {},
   "outputs": [
    {
     "name": "stdout",
     "output_type": "stream",
     "text": [
      "Requirement already satisfied: yfinance in c:\\anaconda3\\lib\\site-packages (0.2.55)\n",
      "Requirement already satisfied: pandas>=1.3.0 in c:\\anaconda3\\lib\\site-packages (from yfinance) (2.2.2)\n",
      "Requirement already satisfied: numpy>=1.16.5 in c:\\anaconda3\\lib\\site-packages (from yfinance) (1.26.4)\n",
      "Requirement already satisfied: requests>=2.31 in c:\\anaconda3\\lib\\site-packages (from yfinance) (2.32.2)\n",
      "Requirement already satisfied: multitasking>=0.0.7 in c:\\anaconda3\\lib\\site-packages (from yfinance) (0.0.11)\n",
      "Requirement already satisfied: platformdirs>=2.0.0 in c:\\anaconda3\\lib\\site-packages (from yfinance) (3.10.0)\n",
      "Requirement already satisfied: pytz>=2022.5 in c:\\anaconda3\\lib\\site-packages (from yfinance) (2024.1)\n",
      "Requirement already satisfied: frozendict>=2.3.4 in c:\\anaconda3\\lib\\site-packages (from yfinance) (2.4.2)\n",
      "Requirement already satisfied: peewee>=3.16.2 in c:\\anaconda3\\lib\\site-packages (from yfinance) (3.17.9)\n",
      "Requirement already satisfied: beautifulsoup4>=4.11.1 in c:\\anaconda3\\lib\\site-packages (from yfinance) (4.12.3)\n",
      "Requirement already satisfied: soupsieve>1.2 in c:\\anaconda3\\lib\\site-packages (from beautifulsoup4>=4.11.1->yfinance) (2.5)\n",
      "Requirement already satisfied: python-dateutil>=2.8.2 in c:\\anaconda3\\lib\\site-packages (from pandas>=1.3.0->yfinance) (2.9.0.post0)\n",
      "Requirement already satisfied: tzdata>=2022.7 in c:\\anaconda3\\lib\\site-packages (from pandas>=1.3.0->yfinance) (2023.3)\n",
      "Requirement already satisfied: charset-normalizer<4,>=2 in c:\\anaconda3\\lib\\site-packages (from requests>=2.31->yfinance) (2.0.4)\n",
      "Requirement already satisfied: idna<4,>=2.5 in c:\\anaconda3\\lib\\site-packages (from requests>=2.31->yfinance) (3.7)\n",
      "Requirement already satisfied: urllib3<3,>=1.21.1 in c:\\anaconda3\\lib\\site-packages (from requests>=2.31->yfinance) (2.2.2)\n",
      "Requirement already satisfied: certifi>=2017.4.17 in c:\\anaconda3\\lib\\site-packages (from requests>=2.31->yfinance) (2024.12.14)\n",
      "Requirement already satisfied: six>=1.5 in c:\\anaconda3\\lib\\site-packages (from python-dateutil>=2.8.2->pandas>=1.3.0->yfinance) (1.16.0)\n"
     ]
    }
   ],
   "source": [
    "!pip install yfinance"
   ]
  },
  {
   "cell_type": "code",
   "execution_count": 2,
   "id": "5878e791-09f4-4792-b215-9681e61d82f5",
   "metadata": {},
   "outputs": [],
   "source": [
    "import pandas as pd\n",
    "import matplotlib.pyplot as plt"
   ]
  },
  {
   "cell_type": "code",
   "execution_count": 3,
   "id": "c683a4bf-e014-4858-8805-5ba15ecdd7d6",
   "metadata": {},
   "outputs": [
    {
     "name": "stdout",
     "output_type": "stream",
     "text": [
      "YF.download() has changed argument auto_adjust default to True\n"
     ]
    },
    {
     "name": "stderr",
     "output_type": "stream",
     "text": [
      "[*********************100%***********************]  1 of 1 completed\n"
     ]
    },
    {
     "data": {
      "text/html": [
       "<div>\n",
       "<style scoped>\n",
       "    .dataframe tbody tr th:only-of-type {\n",
       "        vertical-align: middle;\n",
       "    }\n",
       "\n",
       "    .dataframe tbody tr th {\n",
       "        vertical-align: top;\n",
       "    }\n",
       "\n",
       "    .dataframe thead tr th {\n",
       "        text-align: left;\n",
       "    }\n",
       "\n",
       "    .dataframe thead tr:last-of-type th {\n",
       "        text-align: right;\n",
       "    }\n",
       "</style>\n",
       "<table border=\"1\" class=\"dataframe\">\n",
       "  <thead>\n",
       "    <tr>\n",
       "      <th>Price</th>\n",
       "      <th>Close</th>\n",
       "      <th>High</th>\n",
       "      <th>Low</th>\n",
       "      <th>Open</th>\n",
       "      <th>Volume</th>\n",
       "    </tr>\n",
       "    <tr>\n",
       "      <th>Ticker</th>\n",
       "      <th>RELIANCE.NS</th>\n",
       "      <th>RELIANCE.NS</th>\n",
       "      <th>RELIANCE.NS</th>\n",
       "      <th>RELIANCE.NS</th>\n",
       "      <th>RELIANCE.NS</th>\n",
       "    </tr>\n",
       "    <tr>\n",
       "      <th>Date</th>\n",
       "      <th></th>\n",
       "      <th></th>\n",
       "      <th></th>\n",
       "      <th></th>\n",
       "      <th></th>\n",
       "    </tr>\n",
       "  </thead>\n",
       "  <tbody>\n",
       "    <tr>\n",
       "      <th>2022-04-01</th>\n",
       "      <td>1217.555908</td>\n",
       "      <td>1221.819472</td>\n",
       "      <td>1202.037676</td>\n",
       "      <td>1208.455819</td>\n",
       "      <td>7922880</td>\n",
       "    </tr>\n",
       "    <tr>\n",
       "      <th>2022-04-04</th>\n",
       "      <td>1221.154785</td>\n",
       "      <td>1226.335209</td>\n",
       "      <td>1211.046161</td>\n",
       "      <td>1217.372631</td>\n",
       "      <td>7929162</td>\n",
       "    </tr>\n",
       "    <tr>\n",
       "      <th>2022-04-05</th>\n",
       "      <td>1203.894287</td>\n",
       "      <td>1223.997062</td>\n",
       "      <td>1201.441647</td>\n",
       "      <td>1215.378261</td>\n",
       "      <td>13149870</td>\n",
       "    </tr>\n",
       "    <tr>\n",
       "      <th>2022-04-06</th>\n",
       "      <td>1200.685303</td>\n",
       "      <td>1207.768203</td>\n",
       "      <td>1186.038093</td>\n",
       "      <td>1186.038093</td>\n",
       "      <td>12257215</td>\n",
       "    </tr>\n",
       "    <tr>\n",
       "      <th>2022-04-07</th>\n",
       "      <td>1179.505249</td>\n",
       "      <td>1194.702623</td>\n",
       "      <td>1176.823302</td>\n",
       "      <td>1189.705547</td>\n",
       "      <td>15496499</td>\n",
       "    </tr>\n",
       "    <tr>\n",
       "      <th>...</th>\n",
       "      <td>...</td>\n",
       "      <td>...</td>\n",
       "      <td>...</td>\n",
       "      <td>...</td>\n",
       "      <td>...</td>\n",
       "    </tr>\n",
       "    <tr>\n",
       "      <th>2023-03-24</th>\n",
       "      <td>1013.383179</td>\n",
       "      <td>1034.862342</td>\n",
       "      <td>1010.945529</td>\n",
       "      <td>1032.677618</td>\n",
       "      <td>12375945</td>\n",
       "    </tr>\n",
       "    <tr>\n",
       "      <th>2023-03-27</th>\n",
       "      <td>1029.135986</td>\n",
       "      <td>1036.701982</td>\n",
       "      <td>1011.957353</td>\n",
       "      <td>1019.914294</td>\n",
       "      <td>14054323</td>\n",
       "    </tr>\n",
       "    <tr>\n",
       "      <th>2023-03-28</th>\n",
       "      <td>1033.942505</td>\n",
       "      <td>1037.851966</td>\n",
       "      <td>1028.883138</td>\n",
       "      <td>1032.562667</td>\n",
       "      <td>12576424</td>\n",
       "    </tr>\n",
       "    <tr>\n",
       "      <th>2023-03-29</th>\n",
       "      <td>1027.825317</td>\n",
       "      <td>1032.470684</td>\n",
       "      <td>1016.970739</td>\n",
       "      <td>1029.802980</td>\n",
       "      <td>18804065</td>\n",
       "    </tr>\n",
       "    <tr>\n",
       "      <th>2023-03-31</th>\n",
       "      <td>1072.140381</td>\n",
       "      <td>1077.843680</td>\n",
       "      <td>1037.024090</td>\n",
       "      <td>1037.162050</td>\n",
       "      <td>28171201</td>\n",
       "    </tr>\n",
       "  </tbody>\n",
       "</table>\n",
       "<p>249 rows × 5 columns</p>\n",
       "</div>"
      ],
      "text/plain": [
       "Price             Close         High          Low         Open      Volume\n",
       "Ticker      RELIANCE.NS  RELIANCE.NS  RELIANCE.NS  RELIANCE.NS RELIANCE.NS\n",
       "Date                                                                      \n",
       "2022-04-01  1217.555908  1221.819472  1202.037676  1208.455819     7922880\n",
       "2022-04-04  1221.154785  1226.335209  1211.046161  1217.372631     7929162\n",
       "2022-04-05  1203.894287  1223.997062  1201.441647  1215.378261    13149870\n",
       "2022-04-06  1200.685303  1207.768203  1186.038093  1186.038093    12257215\n",
       "2022-04-07  1179.505249  1194.702623  1176.823302  1189.705547    15496499\n",
       "...                 ...          ...          ...          ...         ...\n",
       "2023-03-24  1013.383179  1034.862342  1010.945529  1032.677618    12375945\n",
       "2023-03-27  1029.135986  1036.701982  1011.957353  1019.914294    14054323\n",
       "2023-03-28  1033.942505  1037.851966  1028.883138  1032.562667    12576424\n",
       "2023-03-29  1027.825317  1032.470684  1016.970739  1029.802980    18804065\n",
       "2023-03-31  1072.140381  1077.843680  1037.024090  1037.162050    28171201\n",
       "\n",
       "[249 rows x 5 columns]"
      ]
     },
     "execution_count": 3,
     "metadata": {},
     "output_type": "execute_result"
    }
   ],
   "source": [
    "import yfinance as yf\n",
    "from datetime import date\n",
    "stk_dataset=yf.download(\"RELIANCE.NS\",start=date(2022,4,1),end=date(2023,4,1))\n",
    "stk_dataset"
   ]
  },
  {
   "cell_type": "code",
   "execution_count": 4,
   "id": "7652c5fd-f0d2-4576-b01f-4662374c0826",
   "metadata": {},
   "outputs": [
    {
     "data": {
      "text/html": [
       "<div>\n",
       "<style scoped>\n",
       "    .dataframe tbody tr th:only-of-type {\n",
       "        vertical-align: middle;\n",
       "    }\n",
       "\n",
       "    .dataframe tbody tr th {\n",
       "        vertical-align: top;\n",
       "    }\n",
       "\n",
       "    .dataframe thead tr th {\n",
       "        text-align: left;\n",
       "    }\n",
       "</style>\n",
       "<table border=\"1\" class=\"dataframe\">\n",
       "  <thead>\n",
       "    <tr>\n",
       "      <th>Price</th>\n",
       "      <th>Close</th>\n",
       "      <th>High</th>\n",
       "      <th>Low</th>\n",
       "      <th>Open</th>\n",
       "      <th>Volume</th>\n",
       "    </tr>\n",
       "    <tr>\n",
       "      <th>Ticker</th>\n",
       "      <th>RELIANCE.NS</th>\n",
       "      <th>RELIANCE.NS</th>\n",
       "      <th>RELIANCE.NS</th>\n",
       "      <th>RELIANCE.NS</th>\n",
       "      <th>RELIANCE.NS</th>\n",
       "    </tr>\n",
       "  </thead>\n",
       "  <tbody>\n",
       "    <tr>\n",
       "      <th>count</th>\n",
       "      <td>249.000000</td>\n",
       "      <td>249.000000</td>\n",
       "      <td>249.000000</td>\n",
       "      <td>249.000000</td>\n",
       "      <td>2.490000e+02</td>\n",
       "    </tr>\n",
       "    <tr>\n",
       "      <th>mean</th>\n",
       "      <td>1155.587545</td>\n",
       "      <td>1168.252033</td>\n",
       "      <td>1144.331779</td>\n",
       "      <td>1156.517313</td>\n",
       "      <td>1.421068e+07</td>\n",
       "    </tr>\n",
       "    <tr>\n",
       "      <th>std</th>\n",
       "      <td>60.387466</td>\n",
       "      <td>60.945747</td>\n",
       "      <td>59.061197</td>\n",
       "      <td>59.403201</td>\n",
       "      <td>8.048908e+06</td>\n",
       "    </tr>\n",
       "    <tr>\n",
       "      <th>min</th>\n",
       "      <td>1012.440308</td>\n",
       "      <td>1021.064175</td>\n",
       "      <td>1002.666595</td>\n",
       "      <td>1018.764485</td>\n",
       "      <td>3.370033e+06</td>\n",
       "    </tr>\n",
       "    <tr>\n",
       "      <th>25%</th>\n",
       "      <td>1109.638306</td>\n",
       "      <td>1118.463372</td>\n",
       "      <td>1098.034880</td>\n",
       "      <td>1110.591229</td>\n",
       "      <td>9.434053e+06</td>\n",
       "    </tr>\n",
       "    <tr>\n",
       "      <th>50%</th>\n",
       "      <td>1163.688843</td>\n",
       "      <td>1177.236417</td>\n",
       "      <td>1151.686831</td>\n",
       "      <td>1164.445246</td>\n",
       "      <td>1.257582e+07</td>\n",
       "    </tr>\n",
       "    <tr>\n",
       "      <th>75%</th>\n",
       "      <td>1198.876465</td>\n",
       "      <td>1209.051795</td>\n",
       "      <td>1184.848440</td>\n",
       "      <td>1196.990743</td>\n",
       "      <td>1.706322e+07</td>\n",
       "    </tr>\n",
       "    <tr>\n",
       "      <th>max</th>\n",
       "      <td>1292.740601</td>\n",
       "      <td>1309.382176</td>\n",
       "      <td>1277.268085</td>\n",
       "      <td>1309.382176</td>\n",
       "      <td>8.199715e+07</td>\n",
       "    </tr>\n",
       "  </tbody>\n",
       "</table>\n",
       "</div>"
      ],
      "text/plain": [
       "Price         Close         High          Low         Open        Volume\n",
       "Ticker  RELIANCE.NS  RELIANCE.NS  RELIANCE.NS  RELIANCE.NS   RELIANCE.NS\n",
       "count    249.000000   249.000000   249.000000   249.000000  2.490000e+02\n",
       "mean    1155.587545  1168.252033  1144.331779  1156.517313  1.421068e+07\n",
       "std       60.387466    60.945747    59.061197    59.403201  8.048908e+06\n",
       "min     1012.440308  1021.064175  1002.666595  1018.764485  3.370033e+06\n",
       "25%     1109.638306  1118.463372  1098.034880  1110.591229  9.434053e+06\n",
       "50%     1163.688843  1177.236417  1151.686831  1164.445246  1.257582e+07\n",
       "75%     1198.876465  1209.051795  1184.848440  1196.990743  1.706322e+07\n",
       "max     1292.740601  1309.382176  1277.268085  1309.382176  8.199715e+07"
      ]
     },
     "execution_count": 4,
     "metadata": {},
     "output_type": "execute_result"
    }
   ],
   "source": [
    "stk_dataset.describe()"
   ]
  },
  {
   "cell_type": "code",
   "execution_count": 5,
   "id": "befbf060-1e44-49e2-9ca3-0072bc137e3b",
   "metadata": {},
   "outputs": [
    {
     "data": {
      "text/plain": [
       "[<matplotlib.lines.Line2D at 0x27d9ac3ff80>]"
      ]
     },
     "execution_count": 5,
     "metadata": {},
     "output_type": "execute_result"
    },
    {
     "data": {
      "image/png": "[encoded data removed]",
      "text/plain": [
       "<Figure size 640x480 with 1 Axes>"
      ]
     },
     "metadata": {},
     "output_type": "display_data"
    }
   ],
   "source": [
    "plt.plot(stk_dataset[\"Low\"])"
   ]
  },
  {
   "cell_type": "code",
   "execution_count": 6,
   "id": "283d816c-0323-4ae4-bed3-870258d202e7",
   "metadata": {},
   "outputs": [],
   "source": [
    "from statsmodels.tsa.stattools import adfuller\n",
    "result=adfuller(stk_dataset[\"Low\"])"
   ]
  },
  {
   "cell_type": "code",
   "execution_count": null,
   "id": "af7b39bb-b27b-4e07-8711-c334ed9e06b7",
   "metadata": {},
   "outputs": [],
   "source": [
    "P_value < 0.0.5 reject null and accept alternate hypothesis     H0: Datas are non-stationary\n",
    "P_value > 0.0.5 accept null and reject alternate hypothesis     H1 : Datas are stationary"
   ]
  },
  {
   "cell_type": "code",
   "execution_count": 11,
   "id": "bc0d9f36-1cd1-4e8c-8a7e-100fc02351a5",
   "metadata": {},
   "outputs": [
    {
     "name": "stdout",
     "output_type": "stream",
     "text": [
      "p-value<=0.05-->Accept Alternate Hypothesis\n",
      "p-value>0.05-->Accept Null Hypothesis\n",
      " accepting null and rejecting alternate the data are non-stationary\n"
     ]
    }
   ],
   "source": [
    "Statistic=result[0]\n",
    "p_value=result[1]\n",
    "critical_values=result[4]\n",
    "print(\"p-value<=0.05-->Accept Alternate Hypothesis\")\n",
    "print(\"p-value>0.05-->Accept Null Hypothesis\")\n",
    "if Statistic < critical_values[\"1%\"] or Statistic < critical_values[\"5%\"] or Statistic < critical_values[\"10%\"] or p_value < 0.05:\n",
    "    print(\" Rejecting null and accepting alternate the data are stationary\")\n",
    "else:\n",
    "    print(\" accepting null and rejecting alternate the data are non-stationary\")\n",
    " \n",
    " "
   ]
  },
  {
   "cell_type": "code",
   "execution_count": null,
   "id": "a4da6a79-472f-4466-bc07-ffc200852a7c",
   "metadata": {},
   "outputs": [],
   "source": []
  }
 ],
 "metadata": {
  "kernelspec": {
   "display_name": "Python 3 (ipykernel)",
   "language": "python",
   "name": "python3"
  },
  "language_info": {
   "codemirror_mode": {
    "name": "ipython",
    "version": 3
   },
   "file_extension": ".py",
   "mimetype": "text/x-python",
   "name": "python",
   "nbconvert_exporter": "python",
   "pygments_lexer": "ipython3",
   "version": "3.12.3"
  }
 },
 "nbformat": 4,
 "nbformat_minor": 5
}
